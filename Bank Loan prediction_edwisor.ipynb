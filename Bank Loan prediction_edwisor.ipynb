{
 "cells": [
  {
   "cell_type": "code",
   "execution_count": 1,
   "metadata": {},
   "outputs": [],
   "source": [
    "# importing all the required library for importing data, exploratory data analysis.\n",
    "import numpy as np \n",
    "import pandas as pd\n",
    "import matplotlib.pyplot as plt\n",
    "import seaborn as sns\n",
    "import warnings\n",
    "from sklearn.model_selection import train_test_split\n",
    "import os\n",
    "os.chdir(\"f:\\\\BANK_Loan_edwisor\") # creating working directory"
   ]
  },
  {
   "cell_type": "code",
   "execution_count": 2,
   "metadata": {},
   "outputs": [
    {
     "data": {
      "text/plain": [
       "'f:\\\\BANK_Loan_edwisor'"
      ]
     },
     "execution_count": 2,
     "metadata": {},
     "output_type": "execute_result"
    }
   ],
   "source": [
    "os.getcwd() # Confirming the working directory is set."
   ]
  },
  {
   "cell_type": "code",
   "execution_count": 3,
   "metadata": {},
   "outputs": [
    {
     "data": {
      "text/plain": [
       "['bank-loan.csv',\n",
       " 'Bank_loan_project report.docx',\n",
       " 'Bank_output.csv',\n",
       " 'Decision Tree.csv',\n",
       " 'Deployment Instruction.docx',\n",
       " '~$nk_loan_project report.docx']"
      ]
     },
     "execution_count": 3,
     "metadata": {},
     "output_type": "execute_result"
    }
   ],
   "source": [
    "os.listdir(\"f:\\\\Bank_Loan_edwisor\") #Listing the data available in the working directory"
   ]
  },
  {
   "cell_type": "code",
   "execution_count": 4,
   "metadata": {},
   "outputs": [],
   "source": [
    "bank_data = pd.read_csv(\"bank-loan.csv\") \n",
    "\n",
    "# Reading the \"csv\" file using pandas and saving it in the variable ba_da."
   ]
  },
  {
   "cell_type": "code",
   "execution_count": 5,
   "metadata": {
    "scrolled": true
   },
   "outputs": [
    {
     "data": {
      "text/html": [
       "<div>\n",
       "<style scoped>\n",
       "    .dataframe tbody tr th:only-of-type {\n",
       "        vertical-align: middle;\n",
       "    }\n",
       "\n",
       "    .dataframe tbody tr th {\n",
       "        vertical-align: top;\n",
       "    }\n",
       "\n",
       "    .dataframe thead th {\n",
       "        text-align: right;\n",
       "    }\n",
       "</style>\n",
       "<table border=\"1\" class=\"dataframe\">\n",
       "  <thead>\n",
       "    <tr style=\"text-align: right;\">\n",
       "      <th></th>\n",
       "      <th>age</th>\n",
       "      <th>ed</th>\n",
       "      <th>employ</th>\n",
       "      <th>address</th>\n",
       "      <th>income</th>\n",
       "      <th>debtinc</th>\n",
       "      <th>creddebt</th>\n",
       "      <th>othdebt</th>\n",
       "      <th>default</th>\n",
       "    </tr>\n",
       "  </thead>\n",
       "  <tbody>\n",
       "    <tr>\n",
       "      <th>0</th>\n",
       "      <td>41</td>\n",
       "      <td>3</td>\n",
       "      <td>17</td>\n",
       "      <td>12</td>\n",
       "      <td>176</td>\n",
       "      <td>9.3</td>\n",
       "      <td>11.359392</td>\n",
       "      <td>5.008608</td>\n",
       "      <td>1.0</td>\n",
       "    </tr>\n",
       "    <tr>\n",
       "      <th>1</th>\n",
       "      <td>27</td>\n",
       "      <td>1</td>\n",
       "      <td>10</td>\n",
       "      <td>6</td>\n",
       "      <td>31</td>\n",
       "      <td>17.3</td>\n",
       "      <td>1.362202</td>\n",
       "      <td>4.000798</td>\n",
       "      <td>0.0</td>\n",
       "    </tr>\n",
       "    <tr>\n",
       "      <th>2</th>\n",
       "      <td>40</td>\n",
       "      <td>1</td>\n",
       "      <td>15</td>\n",
       "      <td>14</td>\n",
       "      <td>55</td>\n",
       "      <td>5.5</td>\n",
       "      <td>0.856075</td>\n",
       "      <td>2.168925</td>\n",
       "      <td>0.0</td>\n",
       "    </tr>\n",
       "    <tr>\n",
       "      <th>3</th>\n",
       "      <td>41</td>\n",
       "      <td>1</td>\n",
       "      <td>15</td>\n",
       "      <td>14</td>\n",
       "      <td>120</td>\n",
       "      <td>2.9</td>\n",
       "      <td>2.658720</td>\n",
       "      <td>0.821280</td>\n",
       "      <td>0.0</td>\n",
       "    </tr>\n",
       "    <tr>\n",
       "      <th>4</th>\n",
       "      <td>24</td>\n",
       "      <td>2</td>\n",
       "      <td>2</td>\n",
       "      <td>0</td>\n",
       "      <td>28</td>\n",
       "      <td>17.3</td>\n",
       "      <td>1.787436</td>\n",
       "      <td>3.056564</td>\n",
       "      <td>1.0</td>\n",
       "    </tr>\n",
       "  </tbody>\n",
       "</table>\n",
       "</div>"
      ],
      "text/plain": [
       "   age  ed  employ  address  income  debtinc   creddebt   othdebt  default\n",
       "0   41   3      17       12     176      9.3  11.359392  5.008608      1.0\n",
       "1   27   1      10        6      31     17.3   1.362202  4.000798      0.0\n",
       "2   40   1      15       14      55      5.5   0.856075  2.168925      0.0\n",
       "3   41   1      15       14     120      2.9   2.658720  0.821280      0.0\n",
       "4   24   2       2        0      28     17.3   1.787436  3.056564      1.0"
      ]
     },
     "execution_count": 5,
     "metadata": {},
     "output_type": "execute_result"
    }
   ],
   "source": [
    "bank_data.head(5) # printing first few 10 lines to see the contents of the file."
   ]
  },
  {
   "cell_type": "code",
   "execution_count": 6,
   "metadata": {},
   "outputs": [
    {
     "data": {
      "text/plain": [
       "0.045584"
      ]
     },
     "execution_count": 6,
     "metadata": {},
     "output_type": "execute_result"
    }
   ],
   "source": [
    "#bank_data['othdebt'].max()\n",
    "bank_data['othdebt'].min()\n",
    "#bank_data['creddebt'].min()\n",
    "#bank_data['creddebt'].max()\n",
    "#bank_data['address'].unique()\n",
    "# it can be seen that the continuous variabels values vary largely. So they need to be normalized before modeling."
   ]
  },
  {
   "cell_type": "code",
   "execution_count": 7,
   "metadata": {},
   "outputs": [
    {
     "data": {
      "text/html": [
       "<div>\n",
       "<style scoped>\n",
       "    .dataframe tbody tr th:only-of-type {\n",
       "        vertical-align: middle;\n",
       "    }\n",
       "\n",
       "    .dataframe tbody tr th {\n",
       "        vertical-align: top;\n",
       "    }\n",
       "\n",
       "    .dataframe thead th {\n",
       "        text-align: right;\n",
       "    }\n",
       "</style>\n",
       "<table border=\"1\" class=\"dataframe\">\n",
       "  <thead>\n",
       "    <tr style=\"text-align: right;\">\n",
       "      <th></th>\n",
       "      <th>age</th>\n",
       "      <th>ed</th>\n",
       "      <th>employ</th>\n",
       "      <th>address</th>\n",
       "      <th>income</th>\n",
       "      <th>debtinc</th>\n",
       "      <th>creddebt</th>\n",
       "      <th>othdebt</th>\n",
       "      <th>default</th>\n",
       "    </tr>\n",
       "  </thead>\n",
       "  <tbody>\n",
       "    <tr>\n",
       "      <th>845</th>\n",
       "      <td>34</td>\n",
       "      <td>1</td>\n",
       "      <td>12</td>\n",
       "      <td>15</td>\n",
       "      <td>32</td>\n",
       "      <td>2.7</td>\n",
       "      <td>0.239328</td>\n",
       "      <td>0.624672</td>\n",
       "      <td>NaN</td>\n",
       "    </tr>\n",
       "    <tr>\n",
       "      <th>846</th>\n",
       "      <td>32</td>\n",
       "      <td>2</td>\n",
       "      <td>12</td>\n",
       "      <td>11</td>\n",
       "      <td>116</td>\n",
       "      <td>5.7</td>\n",
       "      <td>4.026708</td>\n",
       "      <td>2.585292</td>\n",
       "      <td>NaN</td>\n",
       "    </tr>\n",
       "    <tr>\n",
       "      <th>847</th>\n",
       "      <td>48</td>\n",
       "      <td>1</td>\n",
       "      <td>13</td>\n",
       "      <td>11</td>\n",
       "      <td>38</td>\n",
       "      <td>10.8</td>\n",
       "      <td>0.722304</td>\n",
       "      <td>3.381696</td>\n",
       "      <td>NaN</td>\n",
       "    </tr>\n",
       "    <tr>\n",
       "      <th>848</th>\n",
       "      <td>35</td>\n",
       "      <td>2</td>\n",
       "      <td>1</td>\n",
       "      <td>11</td>\n",
       "      <td>24</td>\n",
       "      <td>7.8</td>\n",
       "      <td>0.417456</td>\n",
       "      <td>1.454544</td>\n",
       "      <td>NaN</td>\n",
       "    </tr>\n",
       "    <tr>\n",
       "      <th>849</th>\n",
       "      <td>37</td>\n",
       "      <td>1</td>\n",
       "      <td>20</td>\n",
       "      <td>13</td>\n",
       "      <td>41</td>\n",
       "      <td>12.9</td>\n",
       "      <td>0.899130</td>\n",
       "      <td>4.389870</td>\n",
       "      <td>NaN</td>\n",
       "    </tr>\n",
       "  </tbody>\n",
       "</table>\n",
       "</div>"
      ],
      "text/plain": [
       "     age  ed  employ  address  income  debtinc  creddebt   othdebt  default\n",
       "845   34   1      12       15      32      2.7  0.239328  0.624672      NaN\n",
       "846   32   2      12       11     116      5.7  4.026708  2.585292      NaN\n",
       "847   48   1      13       11      38     10.8  0.722304  3.381696      NaN\n",
       "848   35   2       1       11      24      7.8  0.417456  1.454544      NaN\n",
       "849   37   1      20       13      41     12.9  0.899130  4.389870      NaN"
      ]
     },
     "execution_count": 7,
     "metadata": {},
     "output_type": "execute_result"
    }
   ],
   "source": [
    "bank_data.tail(5) # printing first few 07 lines to see the contents of the file. "
   ]
  },
  {
   "cell_type": "code",
   "execution_count": 8,
   "metadata": {},
   "outputs": [
    {
     "data": {
      "text/plain": [
       "array([ 1.,  0., nan])"
      ]
     },
     "execution_count": 8,
     "metadata": {},
     "output_type": "execute_result"
    }
   ],
   "source": [
    "bank_data[\"default\"].unique()"
   ]
  },
  {
   "cell_type": "markdown",
   "metadata": {},
   "source": [
    "# We can observe from the last few datapoints that there are \"missing values\" present in the data set."
   ]
  },
  {
   "cell_type": "code",
   "execution_count": 9,
   "metadata": {},
   "outputs": [
    {
     "data": {
      "text/html": [
       "<div>\n",
       "<style scoped>\n",
       "    .dataframe tbody tr th:only-of-type {\n",
       "        vertical-align: middle;\n",
       "    }\n",
       "\n",
       "    .dataframe tbody tr th {\n",
       "        vertical-align: top;\n",
       "    }\n",
       "\n",
       "    .dataframe thead th {\n",
       "        text-align: right;\n",
       "    }\n",
       "</style>\n",
       "<table border=\"1\" class=\"dataframe\">\n",
       "  <thead>\n",
       "    <tr style=\"text-align: right;\">\n",
       "      <th></th>\n",
       "      <th>Variable</th>\n",
       "      <th>Missing Values</th>\n",
       "    </tr>\n",
       "  </thead>\n",
       "  <tbody>\n",
       "    <tr>\n",
       "      <th>0</th>\n",
       "      <td>age</td>\n",
       "      <td>0</td>\n",
       "    </tr>\n",
       "    <tr>\n",
       "      <th>1</th>\n",
       "      <td>ed</td>\n",
       "      <td>0</td>\n",
       "    </tr>\n",
       "    <tr>\n",
       "      <th>2</th>\n",
       "      <td>employ</td>\n",
       "      <td>0</td>\n",
       "    </tr>\n",
       "    <tr>\n",
       "      <th>3</th>\n",
       "      <td>address</td>\n",
       "      <td>0</td>\n",
       "    </tr>\n",
       "    <tr>\n",
       "      <th>4</th>\n",
       "      <td>income</td>\n",
       "      <td>0</td>\n",
       "    </tr>\n",
       "    <tr>\n",
       "      <th>5</th>\n",
       "      <td>debtinc</td>\n",
       "      <td>0</td>\n",
       "    </tr>\n",
       "    <tr>\n",
       "      <th>6</th>\n",
       "      <td>creddebt</td>\n",
       "      <td>0</td>\n",
       "    </tr>\n",
       "    <tr>\n",
       "      <th>7</th>\n",
       "      <td>othdebt</td>\n",
       "      <td>0</td>\n",
       "    </tr>\n",
       "    <tr>\n",
       "      <th>8</th>\n",
       "      <td>default</td>\n",
       "      <td>150</td>\n",
       "    </tr>\n",
       "  </tbody>\n",
       "</table>\n",
       "</div>"
      ],
      "text/plain": [
       "   Variable  Missing Values\n",
       "0       age               0\n",
       "1        ed               0\n",
       "2    employ               0\n",
       "3   address               0\n",
       "4    income               0\n",
       "5   debtinc               0\n",
       "6  creddebt               0\n",
       "7   othdebt               0\n",
       "8   default             150"
      ]
     },
     "execution_count": 9,
     "metadata": {},
     "output_type": "execute_result"
    }
   ],
   "source": [
    "missing_values = pd.DataFrame(bank_data.isnull().sum()) #calculating missing values of the data frame and saving in a new data frame.\n",
    "missing_values = missing_values.reset_index() # Reset index of the data frame to make ti more readable.\n",
    "missing_values = missing_values.rename(columns = {\"index\": \"Variable\", 0:\"Missing Values\"}) # rename the column names to understand the data appropriately.\n",
    "missing_values"
   ]
  },
  {
   "cell_type": "code",
   "execution_count": 10,
   "metadata": {},
   "outputs": [
    {
     "data": {
      "text/plain": [
       "array([3, 1, 2, 4, 5], dtype=int64)"
      ]
     },
     "execution_count": 10,
     "metadata": {},
     "output_type": "execute_result"
    }
   ],
   "source": [
    "bank_data['ed'].unique()\n",
    "#bank_data['default'].value_counts()"
   ]
  },
  {
   "cell_type": "code",
   "execution_count": 11,
   "metadata": {},
   "outputs": [],
   "source": [
    "# As variable \"default\" has two levels 0 and 1, and is categorical. The mode of the variable is 0.0 as calculated above. So filling the  missing values with 0.\n",
    "bank_data['default'] = bank_data['default'].fillna(0)"
   ]
  },
  {
   "cell_type": "code",
   "execution_count": 12,
   "metadata": {},
   "outputs": [
    {
     "data": {
      "text/plain": [
       "age         0\n",
       "ed          0\n",
       "employ      0\n",
       "address     0\n",
       "income      0\n",
       "debtinc     0\n",
       "creddebt    0\n",
       "othdebt     0\n",
       "default     0\n",
       "dtype: int64"
      ]
     },
     "execution_count": 12,
     "metadata": {},
     "output_type": "execute_result"
    }
   ],
   "source": [
    "bank_data.isnull().sum() # all the missing values have been replaced by 0.0."
   ]
  },
  {
   "cell_type": "code",
   "execution_count": 13,
   "metadata": {},
   "outputs": [
    {
     "data": {
      "text/plain": [
       "(850, 9)"
      ]
     },
     "execution_count": 13,
     "metadata": {},
     "output_type": "execute_result"
    }
   ],
   "source": [
    "bank_data.shape # Checking te structure of the dataset"
   ]
  },
  {
   "cell_type": "code",
   "execution_count": 14,
   "metadata": {},
   "outputs": [
    {
     "data": {
      "text/html": [
       "<div>\n",
       "<style scoped>\n",
       "    .dataframe tbody tr th:only-of-type {\n",
       "        vertical-align: middle;\n",
       "    }\n",
       "\n",
       "    .dataframe tbody tr th {\n",
       "        vertical-align: top;\n",
       "    }\n",
       "\n",
       "    .dataframe thead th {\n",
       "        text-align: right;\n",
       "    }\n",
       "</style>\n",
       "<table border=\"1\" class=\"dataframe\">\n",
       "  <thead>\n",
       "    <tr style=\"text-align: right;\">\n",
       "      <th></th>\n",
       "      <th>age</th>\n",
       "      <th>ed</th>\n",
       "      <th>employ</th>\n",
       "      <th>address</th>\n",
       "      <th>income</th>\n",
       "      <th>debtinc</th>\n",
       "      <th>creddebt</th>\n",
       "      <th>othdebt</th>\n",
       "      <th>default</th>\n",
       "    </tr>\n",
       "  </thead>\n",
       "  <tbody>\n",
       "    <tr>\n",
       "      <th>count</th>\n",
       "      <td>850.000000</td>\n",
       "      <td>850.000000</td>\n",
       "      <td>850.000000</td>\n",
       "      <td>850.000000</td>\n",
       "      <td>850.000000</td>\n",
       "      <td>850.000000</td>\n",
       "      <td>850.000000</td>\n",
       "      <td>850.000000</td>\n",
       "      <td>850.000000</td>\n",
       "    </tr>\n",
       "    <tr>\n",
       "      <th>mean</th>\n",
       "      <td>35.029412</td>\n",
       "      <td>1.710588</td>\n",
       "      <td>8.565882</td>\n",
       "      <td>8.371765</td>\n",
       "      <td>46.675294</td>\n",
       "      <td>10.171647</td>\n",
       "      <td>1.576805</td>\n",
       "      <td>3.078789</td>\n",
       "      <td>0.215294</td>\n",
       "    </tr>\n",
       "    <tr>\n",
       "      <th>std</th>\n",
       "      <td>8.041432</td>\n",
       "      <td>0.927784</td>\n",
       "      <td>6.777884</td>\n",
       "      <td>6.895016</td>\n",
       "      <td>38.543054</td>\n",
       "      <td>6.719441</td>\n",
       "      <td>2.125840</td>\n",
       "      <td>3.398803</td>\n",
       "      <td>0.411268</td>\n",
       "    </tr>\n",
       "    <tr>\n",
       "      <th>min</th>\n",
       "      <td>20.000000</td>\n",
       "      <td>1.000000</td>\n",
       "      <td>0.000000</td>\n",
       "      <td>0.000000</td>\n",
       "      <td>13.000000</td>\n",
       "      <td>0.100000</td>\n",
       "      <td>0.011696</td>\n",
       "      <td>0.045584</td>\n",
       "      <td>0.000000</td>\n",
       "    </tr>\n",
       "    <tr>\n",
       "      <th>25%</th>\n",
       "      <td>29.000000</td>\n",
       "      <td>1.000000</td>\n",
       "      <td>3.000000</td>\n",
       "      <td>3.000000</td>\n",
       "      <td>24.000000</td>\n",
       "      <td>5.100000</td>\n",
       "      <td>0.382176</td>\n",
       "      <td>1.045942</td>\n",
       "      <td>0.000000</td>\n",
       "    </tr>\n",
       "    <tr>\n",
       "      <th>50%</th>\n",
       "      <td>34.000000</td>\n",
       "      <td>1.000000</td>\n",
       "      <td>7.000000</td>\n",
       "      <td>7.000000</td>\n",
       "      <td>35.000000</td>\n",
       "      <td>8.700000</td>\n",
       "      <td>0.885091</td>\n",
       "      <td>2.003243</td>\n",
       "      <td>0.000000</td>\n",
       "    </tr>\n",
       "    <tr>\n",
       "      <th>75%</th>\n",
       "      <td>41.000000</td>\n",
       "      <td>2.000000</td>\n",
       "      <td>13.000000</td>\n",
       "      <td>12.000000</td>\n",
       "      <td>55.750000</td>\n",
       "      <td>13.800000</td>\n",
       "      <td>1.898440</td>\n",
       "      <td>3.903001</td>\n",
       "      <td>0.000000</td>\n",
       "    </tr>\n",
       "    <tr>\n",
       "      <th>max</th>\n",
       "      <td>56.000000</td>\n",
       "      <td>5.000000</td>\n",
       "      <td>33.000000</td>\n",
       "      <td>34.000000</td>\n",
       "      <td>446.000000</td>\n",
       "      <td>41.300000</td>\n",
       "      <td>20.561310</td>\n",
       "      <td>35.197500</td>\n",
       "      <td>1.000000</td>\n",
       "    </tr>\n",
       "  </tbody>\n",
       "</table>\n",
       "</div>"
      ],
      "text/plain": [
       "              age          ed      employ     address      income     debtinc  \\\n",
       "count  850.000000  850.000000  850.000000  850.000000  850.000000  850.000000   \n",
       "mean    35.029412    1.710588    8.565882    8.371765   46.675294   10.171647   \n",
       "std      8.041432    0.927784    6.777884    6.895016   38.543054    6.719441   \n",
       "min     20.000000    1.000000    0.000000    0.000000   13.000000    0.100000   \n",
       "25%     29.000000    1.000000    3.000000    3.000000   24.000000    5.100000   \n",
       "50%     34.000000    1.000000    7.000000    7.000000   35.000000    8.700000   \n",
       "75%     41.000000    2.000000   13.000000   12.000000   55.750000   13.800000   \n",
       "max     56.000000    5.000000   33.000000   34.000000  446.000000   41.300000   \n",
       "\n",
       "         creddebt     othdebt     default  \n",
       "count  850.000000  850.000000  850.000000  \n",
       "mean     1.576805    3.078789    0.215294  \n",
       "std      2.125840    3.398803    0.411268  \n",
       "min      0.011696    0.045584    0.000000  \n",
       "25%      0.382176    1.045942    0.000000  \n",
       "50%      0.885091    2.003243    0.000000  \n",
       "75%      1.898440    3.903001    0.000000  \n",
       "max     20.561310   35.197500    1.000000  "
      ]
     },
     "execution_count": 14,
     "metadata": {},
     "output_type": "execute_result"
    }
   ],
   "source": [
    "bank_data.describe() # obtaining the statistical information of each variable in the raw data."
   ]
  },
  {
   "cell_type": "markdown",
   "metadata": {},
   "source": [
    "\n",
    "It can be observed that \"standarad deviation\" of the variable 'income' is understandably higher than the rest of the variable. There is a good chance that outliers are present in the variable.\n"
   ]
  },
  {
   "cell_type": "code",
   "execution_count": 15,
   "metadata": {},
   "outputs": [
    {
     "data": {
      "text/plain": [
       "age           int64\n",
       "ed            int64\n",
       "employ        int64\n",
       "address       int64\n",
       "income        int64\n",
       "debtinc     float64\n",
       "creddebt    float64\n",
       "othdebt     float64\n",
       "default     float64\n",
       "dtype: object"
      ]
     },
     "execution_count": 15,
     "metadata": {},
     "output_type": "execute_result"
    }
   ],
   "source": [
    "bank_data.dtypes # checking the data types of all the variables"
   ]
  },
  {
   "cell_type": "code",
   "execution_count": 16,
   "metadata": {},
   "outputs": [],
   "source": [
    "bank_data[\"ed\"] = bank_data[\"ed\"].astype(\"category\")"
   ]
  },
  {
   "cell_type": "markdown",
   "metadata": {},
   "source": [
    "# Feature Selection of continuous variables"
   ]
  },
  {
   "cell_type": "code",
   "execution_count": 17,
   "metadata": {},
   "outputs": [],
   "source": [
    "num_var = ['age', 'employ', 'address', 'income', 'debtinc', 'creddebt', 'othdebt']\n",
    "cat_var = [\"ed\"]"
   ]
  },
  {
   "cell_type": "code",
   "execution_count": 18,
   "metadata": {},
   "outputs": [],
   "source": [
    "df_corr = bank_data.loc[:,num_var]"
   ]
  },
  {
   "cell_type": "code",
   "execution_count": 19,
   "metadata": {},
   "outputs": [
    {
     "data": {
      "text/plain": [
       "<matplotlib.axes._subplots.AxesSubplot at 0xb55dfc8>"
      ]
     },
     "execution_count": 19,
     "metadata": {},
     "output_type": "execute_result"
    },
    {
     "data": {
      "image/png": "[encoded data removed]",
      "text/plain": [
       "<Figure size 504x360 with 2 Axes>"
      ]
     },
     "metadata": {
      "needs_background": "light"
     },
     "output_type": "display_data"
    }
   ],
   "source": [
    "f, ax = plt.subplots(figsize =(7,5))\n",
    "corr = df_corr.corr()\n",
    "sns.heatmap(corr, mask=np.zeros_like(corr, dtype=np.bool), cmap=sns.diverging_palette(220, 10, as_cmap=True), vmax = 0.8,\n",
    "            square=True, ax=ax)"
   ]
  },
  {
   "cell_type": "markdown",
   "metadata": {},
   "source": [
    "It can be inferred from the correlation plot for the continuous variables that, the variables are not hihgly correlated to eac other.\n",
    "Though we can say that variiables \"crddebt\" and \"othdebt\" are  slightly positively correlated but still it may be a decidi9ng factor for person to stamp load default status. "
   ]
  },
  {
   "cell_type": "markdown",
   "metadata": {},
   "source": [
    "# Normality check and Normalization of all Continuous variables."
   ]
  },
  {
   "cell_type": "code",
   "execution_count": 20,
   "metadata": {},
   "outputs": [
    {
     "data": {
      "text/plain": [
       "Text(0.5, 1.0, 'Normality check')"
      ]
     },
     "execution_count": 20,
     "metadata": {},
     "output_type": "execute_result"
    },
    {
     "data": {
      "image/png": "[encoded data removed]",
      "text/plain": [
       "<Figure size 432x288 with 1 Axes>"
      ]
     },
     "metadata": {
      "needs_background": "light"
     },
     "output_type": "display_data"
    }
   ],
   "source": [
    "# Checking normality of continuous variable.\n",
    "plt.hist(bank_data['debtinc'], bins = 'auto') # Each continuous variable has been checked, and it was found they are left skewed and not normally distributed.\n",
    "plt.xlabel(\"Debit of gross income\")\n",
    "plt.ylabel(\"Data distribution\")\n",
    "plt.title(\"Normality check\")\n",
    "#check similarly for all the variables.\n",
    "# ['age', 'ed', 'employ', 'address', 'income', 'debtinc', 'creddebt', 'othdebt']"
   ]
  },
  {
   "cell_type": "code",
   "execution_count": 21,
   "metadata": {},
   "outputs": [
    {
     "name": "stdout",
     "output_type": "stream",
     "text": [
      "age\n",
      "employ\n",
      "address\n",
      "income\n",
      "debtinc\n",
      "creddebt\n",
      "othdebt\n"
     ]
    }
   ],
   "source": [
    "# Implementing Normalization technique on all the continuous variable.\n",
    "for i in num_var:\n",
    "    print(i)\n",
    "    bank_data[i] = (bank_data[i] - min(bank_data[i]))  / (max(bank_data[i]) - min(bank_data[i]))"
   ]
  },
  {
   "cell_type": "code",
   "execution_count": 22,
   "metadata": {},
   "outputs": [
    {
     "data": {
      "text/html": [
       "<div>\n",
       "<style scoped>\n",
       "    .dataframe tbody tr th:only-of-type {\n",
       "        vertical-align: middle;\n",
       "    }\n",
       "\n",
       "    .dataframe tbody tr th {\n",
       "        vertical-align: top;\n",
       "    }\n",
       "\n",
       "    .dataframe thead th {\n",
       "        text-align: right;\n",
       "    }\n",
       "</style>\n",
       "<table border=\"1\" class=\"dataframe\">\n",
       "  <thead>\n",
       "    <tr style=\"text-align: right;\">\n",
       "      <th></th>\n",
       "      <th>age</th>\n",
       "      <th>ed</th>\n",
       "      <th>employ</th>\n",
       "      <th>address</th>\n",
       "      <th>income</th>\n",
       "      <th>debtinc</th>\n",
       "      <th>creddebt</th>\n",
       "      <th>othdebt</th>\n",
       "      <th>default</th>\n",
       "    </tr>\n",
       "  </thead>\n",
       "  <tbody>\n",
       "    <tr>\n",
       "      <th>0</th>\n",
       "      <td>0.583333</td>\n",
       "      <td>3</td>\n",
       "      <td>0.515152</td>\n",
       "      <td>0.352941</td>\n",
       "      <td>0.376443</td>\n",
       "      <td>0.223301</td>\n",
       "      <td>0.552210</td>\n",
       "      <td>0.141188</td>\n",
       "      <td>1.0</td>\n",
       "    </tr>\n",
       "    <tr>\n",
       "      <th>1</th>\n",
       "      <td>0.194444</td>\n",
       "      <td>1</td>\n",
       "      <td>0.303030</td>\n",
       "      <td>0.176471</td>\n",
       "      <td>0.041570</td>\n",
       "      <td>0.417476</td>\n",
       "      <td>0.065719</td>\n",
       "      <td>0.112518</td>\n",
       "      <td>0.0</td>\n",
       "    </tr>\n",
       "    <tr>\n",
       "      <th>2</th>\n",
       "      <td>0.555556</td>\n",
       "      <td>1</td>\n",
       "      <td>0.454545</td>\n",
       "      <td>0.411765</td>\n",
       "      <td>0.096998</td>\n",
       "      <td>0.131068</td>\n",
       "      <td>0.041090</td>\n",
       "      <td>0.060405</td>\n",
       "      <td>0.0</td>\n",
       "    </tr>\n",
       "    <tr>\n",
       "      <th>3</th>\n",
       "      <td>0.583333</td>\n",
       "      <td>1</td>\n",
       "      <td>0.454545</td>\n",
       "      <td>0.411765</td>\n",
       "      <td>0.247113</td>\n",
       "      <td>0.067961</td>\n",
       "      <td>0.128811</td>\n",
       "      <td>0.022067</td>\n",
       "      <td>0.0</td>\n",
       "    </tr>\n",
       "    <tr>\n",
       "      <th>4</th>\n",
       "      <td>0.111111</td>\n",
       "      <td>2</td>\n",
       "      <td>0.060606</td>\n",
       "      <td>0.000000</td>\n",
       "      <td>0.034642</td>\n",
       "      <td>0.417476</td>\n",
       "      <td>0.086412</td>\n",
       "      <td>0.085656</td>\n",
       "      <td>1.0</td>\n",
       "    </tr>\n",
       "  </tbody>\n",
       "</table>\n",
       "</div>"
      ],
      "text/plain": [
       "        age ed    employ   address    income   debtinc  creddebt   othdebt  \\\n",
       "0  0.583333  3  0.515152  0.352941  0.376443  0.223301  0.552210  0.141188   \n",
       "1  0.194444  1  0.303030  0.176471  0.041570  0.417476  0.065719  0.112518   \n",
       "2  0.555556  1  0.454545  0.411765  0.096998  0.131068  0.041090  0.060405   \n",
       "3  0.583333  1  0.454545  0.411765  0.247113  0.067961  0.128811  0.022067   \n",
       "4  0.111111  2  0.060606  0.000000  0.034642  0.417476  0.086412  0.085656   \n",
       "\n",
       "   default  \n",
       "0      1.0  \n",
       "1      0.0  \n",
       "2      0.0  \n",
       "3      0.0  \n",
       "4      1.0  "
      ]
     },
     "execution_count": 22,
     "metadata": {},
     "output_type": "execute_result"
    }
   ],
   "source": [
    "bank_data.head()"
   ]
  },
  {
   "cell_type": "markdown",
   "metadata": {},
   "source": [
    "All the data has been transformed into normalized form. Each data points is normally distributed now and this will help in building the model more precise and efficient."
   ]
  },
  {
   "cell_type": "markdown",
   "metadata": {},
   "source": [
    "# Outliers analysis "
   ]
  },
  {
   "cell_type": "code",
   "execution_count": 23,
   "metadata": {},
   "outputs": [
    {
     "data": {
      "text/plain": [
       "<matplotlib.axes._subplots.AxesSubplot at 0xbd96108>"
      ]
     },
     "execution_count": 23,
     "metadata": {},
     "output_type": "execute_result"
    },
    {
     "data": {
      "image/png": "[encoded data removed]",
      "text/plain": [
       "<Figure size 432x288 with 1 Axes>"
      ]
     },
     "metadata": {
      "needs_background": "light"
     },
     "output_type": "display_data"
    },
    {
     "data": {
      "image/png": "[encoded data removed]",
      "text/plain": [
       "<Figure size 432x288 with 1 Axes>"
      ]
     },
     "metadata": {
      "needs_background": "light"
     },
     "output_type": "display_data"
    },
    {
     "data": {
      "image/png": "[encoded data removed]",
      "text/plain": [
       "<Figure size 432x288 with 1 Axes>"
      ]
     },
     "metadata": {
      "needs_background": "light"
     },
     "output_type": "display_data"
    },
    {
     "data": {
      "image/png": "[encoded data removed]",
      "text/plain": [
       "<Figure size 432x288 with 1 Axes>"
      ]
     },
     "metadata": {
      "needs_background": "light"
     },
     "output_type": "display_data"
    },
    {
     "data": {
      "image/png": "[encoded data removed]",
      "text/plain": [
       "<Figure size 432x288 with 1 Axes>"
      ]
     },
     "metadata": {
      "needs_background": "light"
     },
     "output_type": "display_data"
    }
   ],
   "source": [
    "#Creating box plots for continuous variables especially for the variable income as standard deviation is very high.\n",
    "\n",
    "#fig, ax = plt.subplots(figsize = (15,9))\n",
    "#sns.set()\n",
    "#sns.boxplot(data = bank_data[['income']])\n",
    "#plt.show()\n",
    "bank_data.boxplot('income','default')\n",
    "bank_data.boxplot('age','default')\n",
    "bank_data.boxplot('creddebt','default')\n",
    "bank_data.boxplot('othdebt','default')\n",
    "bank_data.boxplot('debtinc','default')"
   ]
  },
  {
   "cell_type": "code",
   "execution_count": 24,
   "metadata": {},
   "outputs": [
    {
     "data": {
      "text/plain": [
       "<matplotlib.axes._subplots.AxesSubplot at 0xbd96508>"
      ]
     },
     "execution_count": 24,
     "metadata": {},
     "output_type": "execute_result"
    },
    {
     "data": {
      "image/png": "[encoded data removed]",
      "text/plain": [
       "<Figure size 432x288 with 1 Axes>"
      ]
     },
     "metadata": {
      "needs_background": "light"
     },
     "output_type": "display_data"
    }
   ],
   "source": [
    "#fig, ax = plt.subplots(figsize = (15,9))\n",
    "#sns.set()\n",
    "#sns.boxplot(data = bank_data[['debtinc', 'creddebt', 'othdebt']])\n",
    "#plt.show()\n",
    "bank_data.boxplot('othdebt', 'default')"
   ]
  },
  {
   "cell_type": "markdown",
   "metadata": {},
   "source": [
    "We can observe that all the continuous variable has outliers present in them.\n",
    "Next,\n",
    "We ill impute this outliers"
   ]
  },
  {
   "cell_type": "code",
   "execution_count": 25,
   "metadata": {},
   "outputs": [
    {
     "data": {
      "text/plain": [
       "(850, 9)"
      ]
     },
     "execution_count": 25,
     "metadata": {},
     "output_type": "execute_result"
    }
   ],
   "source": [
    "bank_data.shape\n"
   ]
  },
  {
   "cell_type": "code",
   "execution_count": 26,
   "metadata": {},
   "outputs": [
    {
     "name": "stdout",
     "output_type": "stream",
     "text": [
      "age\n",
      "-0.25\n",
      "1.0833333333333335\n",
      "employ\n",
      "-0.36363636363636354\n",
      "0.8484848484848484\n",
      "address\n",
      "-0.3088235294117647\n",
      "0.75\n",
      "income\n",
      "-0.07852193995381061\n",
      "0.19861431870669743\n",
      "debtinc\n",
      "-0.19478155339805822\n",
      "0.6547330097087378\n",
      "creddebt\n",
      "-0.07479060798903574\n",
      "0.1684052496071216\n",
      "othdebt\n",
      "-0.059353663680807606\n",
      "0.16696845201837646\n"
     ]
    }
   ],
   "source": [
    "# Detection of outliers and droping them.\n",
    "for i in num_var:\n",
    "    print(i)\n",
    "    q75, q25 = np.percentile(bank_data.loc[:,i],[75,25]) # Divide data into 75%quantile and 25%quantile.\n",
    "    iqr = q75 - q25 #Inter quantile range\n",
    "    min = q25 - (iqr * 1.5) #inner fence\n",
    "    max = q75 + (iqr * 1.5) #outer fence\n",
    "    print(min)\n",
    "    print(max)\n",
    "    bank_data = bank_data.drop(bank_data[bank_data.loc[:,i] < min].index)  #Replace with NA\n",
    "    bank_data = bank_data.drop(bank_data[bank_data.loc[:,i] > max].index)\n",
    "    "
   ]
  },
  {
   "cell_type": "code",
   "execution_count": 27,
   "metadata": {},
   "outputs": [
    {
     "data": {
      "text/plain": [
       "(662, 9)"
      ]
     },
     "execution_count": 27,
     "metadata": {},
     "output_type": "execute_result"
    }
   ],
   "source": [
    "bank_data.shape"
   ]
  },
  {
   "cell_type": "code",
   "execution_count": 28,
   "metadata": {},
   "outputs": [],
   "source": [
    "bank_data_scaled = bank_data.copy()\n",
    "for i in num_var:\n",
    "    bank_data_scaled[i] = (bank_data[i] - bank_data[i].mean()) / bank_data[i].std()"
   ]
  },
  {
   "cell_type": "code",
   "execution_count": 29,
   "metadata": {},
   "outputs": [
    {
     "data": {
      "text/html": [
       "<div>\n",
       "<style scoped>\n",
       "    .dataframe tbody tr th:only-of-type {\n",
       "        vertical-align: middle;\n",
       "    }\n",
       "\n",
       "    .dataframe tbody tr th {\n",
       "        vertical-align: top;\n",
       "    }\n",
       "\n",
       "    .dataframe thead th {\n",
       "        text-align: right;\n",
       "    }\n",
       "</style>\n",
       "<table border=\"1\" class=\"dataframe\">\n",
       "  <thead>\n",
       "    <tr style=\"text-align: right;\">\n",
       "      <th></th>\n",
       "      <th>age</th>\n",
       "      <th>ed</th>\n",
       "      <th>employ</th>\n",
       "      <th>address</th>\n",
       "      <th>income</th>\n",
       "      <th>debtinc</th>\n",
       "      <th>creddebt</th>\n",
       "      <th>othdebt</th>\n",
       "      <th>default</th>\n",
       "    </tr>\n",
       "  </thead>\n",
       "  <tbody>\n",
       "    <tr>\n",
       "      <th>1</th>\n",
       "      <td>-0.865556</td>\n",
       "      <td>1</td>\n",
       "      <td>0.568715</td>\n",
       "      <td>-0.235184</td>\n",
       "      <td>-0.229880</td>\n",
       "      <td>1.618775</td>\n",
       "      <td>0.614717</td>\n",
       "      <td>1.545935</td>\n",
       "      <td>0.0</td>\n",
       "    </tr>\n",
       "    <tr>\n",
       "      <th>2</th>\n",
       "      <td>0.888382</td>\n",
       "      <td>1</td>\n",
       "      <td>1.482081</td>\n",
       "      <td>1.077285</td>\n",
       "      <td>1.191260</td>\n",
       "      <td>-0.605734</td>\n",
       "      <td>-0.054356</td>\n",
       "      <td>0.181770</td>\n",
       "      <td>0.0</td>\n",
       "    </tr>\n",
       "    <tr>\n",
       "      <th>4</th>\n",
       "      <td>-1.270311</td>\n",
       "      <td>2</td>\n",
       "      <td>-0.892671</td>\n",
       "      <td>-1.219536</td>\n",
       "      <td>-0.407522</td>\n",
       "      <td>1.618775</td>\n",
       "      <td>1.176854</td>\n",
       "      <td>0.842780</td>\n",
       "      <td>1.0</td>\n",
       "    </tr>\n",
       "    <tr>\n",
       "      <th>5</th>\n",
       "      <td>1.023301</td>\n",
       "      <td>2</td>\n",
       "      <td>-0.344651</td>\n",
       "      <td>-0.399242</td>\n",
       "      <td>-0.585165</td>\n",
       "      <td>0.280299</td>\n",
       "      <td>-0.666913</td>\n",
       "      <td>0.173113</td>\n",
       "      <td>0.0</td>\n",
       "    </tr>\n",
       "    <tr>\n",
       "      <th>7</th>\n",
       "      <td>1.293138</td>\n",
       "      <td>1</td>\n",
       "      <td>0.934062</td>\n",
       "      <td>0.585109</td>\n",
       "      <td>0.184619</td>\n",
       "      <td>-0.963918</td>\n",
       "      <td>-1.016050</td>\n",
       "      <td>-0.510425</td>\n",
       "      <td>0.0</td>\n",
       "    </tr>\n",
       "  </tbody>\n",
       "</table>\n",
       "</div>"
      ],
      "text/plain": [
       "        age ed    employ   address    income   debtinc  creddebt   othdebt  \\\n",
       "1 -0.865556  1  0.568715 -0.235184 -0.229880  1.618775  0.614717  1.545935   \n",
       "2  0.888382  1  1.482081  1.077285  1.191260 -0.605734 -0.054356  0.181770   \n",
       "4 -1.270311  2 -0.892671 -1.219536 -0.407522  1.618775  1.176854  0.842780   \n",
       "5  1.023301  2 -0.344651 -0.399242 -0.585165  0.280299 -0.666913  0.173113   \n",
       "7  1.293138  1  0.934062  0.585109  0.184619 -0.963918 -1.016050 -0.510425   \n",
       "\n",
       "   default  \n",
       "1      0.0  \n",
       "2      0.0  \n",
       "4      1.0  \n",
       "5      0.0  \n",
       "7      0.0  "
      ]
     },
     "execution_count": 29,
     "metadata": {},
     "output_type": "execute_result"
    }
   ],
   "source": [
    "bank_data_scaled.head(5)"
   ]
  },
  {
   "cell_type": "code",
   "execution_count": 30,
   "metadata": {},
   "outputs": [],
   "source": [
    "bank_data_logit = pd.DataFrame(bank_data[\"default\"])"
   ]
  },
  {
   "cell_type": "code",
   "execution_count": 31,
   "metadata": {},
   "outputs": [],
   "source": [
    "bank_data_logit = bank_data_logit.join(bank_data[num_var])"
   ]
  },
  {
   "cell_type": "code",
   "execution_count": 32,
   "metadata": {},
   "outputs": [
    {
     "data": {
      "text/html": [
       "<div>\n",
       "<style scoped>\n",
       "    .dataframe tbody tr th:only-of-type {\n",
       "        vertical-align: middle;\n",
       "    }\n",
       "\n",
       "    .dataframe tbody tr th {\n",
       "        vertical-align: top;\n",
       "    }\n",
       "\n",
       "    .dataframe thead th {\n",
       "        text-align: right;\n",
       "    }\n",
       "</style>\n",
       "<table border=\"1\" class=\"dataframe\">\n",
       "  <thead>\n",
       "    <tr style=\"text-align: right;\">\n",
       "      <th></th>\n",
       "      <th>default</th>\n",
       "      <th>age</th>\n",
       "      <th>employ</th>\n",
       "      <th>address</th>\n",
       "      <th>income</th>\n",
       "      <th>debtinc</th>\n",
       "      <th>creddebt</th>\n",
       "      <th>othdebt</th>\n",
       "    </tr>\n",
       "  </thead>\n",
       "  <tbody>\n",
       "    <tr>\n",
       "      <th>1</th>\n",
       "      <td>0.0</td>\n",
       "      <td>0.194444</td>\n",
       "      <td>0.303030</td>\n",
       "      <td>0.176471</td>\n",
       "      <td>0.041570</td>\n",
       "      <td>0.417476</td>\n",
       "      <td>0.065719</td>\n",
       "      <td>0.112518</td>\n",
       "    </tr>\n",
       "    <tr>\n",
       "      <th>2</th>\n",
       "      <td>0.0</td>\n",
       "      <td>0.555556</td>\n",
       "      <td>0.454545</td>\n",
       "      <td>0.411765</td>\n",
       "      <td>0.096998</td>\n",
       "      <td>0.131068</td>\n",
       "      <td>0.041090</td>\n",
       "      <td>0.060405</td>\n",
       "    </tr>\n",
       "    <tr>\n",
       "      <th>4</th>\n",
       "      <td>1.0</td>\n",
       "      <td>0.111111</td>\n",
       "      <td>0.060606</td>\n",
       "      <td>0.000000</td>\n",
       "      <td>0.034642</td>\n",
       "      <td>0.417476</td>\n",
       "      <td>0.086412</td>\n",
       "      <td>0.085656</td>\n",
       "    </tr>\n",
       "    <tr>\n",
       "      <th>5</th>\n",
       "      <td>0.0</td>\n",
       "      <td>0.583333</td>\n",
       "      <td>0.151515</td>\n",
       "      <td>0.147059</td>\n",
       "      <td>0.027714</td>\n",
       "      <td>0.245146</td>\n",
       "      <td>0.018541</td>\n",
       "      <td>0.060074</td>\n",
       "    </tr>\n",
       "    <tr>\n",
       "      <th>7</th>\n",
       "      <td>0.0</td>\n",
       "      <td>0.638889</td>\n",
       "      <td>0.363636</td>\n",
       "      <td>0.323529</td>\n",
       "      <td>0.057737</td>\n",
       "      <td>0.084951</td>\n",
       "      <td>0.005688</td>\n",
       "      <td>0.033962</td>\n",
       "    </tr>\n",
       "  </tbody>\n",
       "</table>\n",
       "</div>"
      ],
      "text/plain": [
       "   default       age    employ   address    income   debtinc  creddebt  \\\n",
       "1      0.0  0.194444  0.303030  0.176471  0.041570  0.417476  0.065719   \n",
       "2      0.0  0.555556  0.454545  0.411765  0.096998  0.131068  0.041090   \n",
       "4      1.0  0.111111  0.060606  0.000000  0.034642  0.417476  0.086412   \n",
       "5      0.0  0.583333  0.151515  0.147059  0.027714  0.245146  0.018541   \n",
       "7      0.0  0.638889  0.363636  0.323529  0.057737  0.084951  0.005688   \n",
       "\n",
       "    othdebt  \n",
       "1  0.112518  \n",
       "2  0.060405  \n",
       "4  0.085656  \n",
       "5  0.060074  \n",
       "7  0.033962  "
      ]
     },
     "execution_count": 32,
     "metadata": {},
     "output_type": "execute_result"
    }
   ],
   "source": [
    "bank_data_logit.head()"
   ]
  },
  {
   "cell_type": "code",
   "execution_count": 33,
   "metadata": {},
   "outputs": [],
   "source": [
    "temp = pd.get_dummies(bank_data[\"ed\"], prefix = \"ed\", drop_first = True)"
   ]
  },
  {
   "cell_type": "code",
   "execution_count": 34,
   "metadata": {},
   "outputs": [],
   "source": [
    "bank_data_logit = bank_data_logit.join(temp)"
   ]
  },
  {
   "cell_type": "code",
   "execution_count": 35,
   "metadata": {},
   "outputs": [
    {
     "data": {
      "text/html": [
       "<div>\n",
       "<style scoped>\n",
       "    .dataframe tbody tr th:only-of-type {\n",
       "        vertical-align: middle;\n",
       "    }\n",
       "\n",
       "    .dataframe tbody tr th {\n",
       "        vertical-align: top;\n",
       "    }\n",
       "\n",
       "    .dataframe thead th {\n",
       "        text-align: right;\n",
       "    }\n",
       "</style>\n",
       "<table border=\"1\" class=\"dataframe\">\n",
       "  <thead>\n",
       "    <tr style=\"text-align: right;\">\n",
       "      <th></th>\n",
       "      <th>default</th>\n",
       "      <th>age</th>\n",
       "      <th>employ</th>\n",
       "      <th>address</th>\n",
       "      <th>income</th>\n",
       "      <th>debtinc</th>\n",
       "      <th>creddebt</th>\n",
       "      <th>othdebt</th>\n",
       "      <th>ed_2</th>\n",
       "      <th>ed_3</th>\n",
       "      <th>ed_4</th>\n",
       "      <th>ed_5</th>\n",
       "    </tr>\n",
       "  </thead>\n",
       "  <tbody>\n",
       "    <tr>\n",
       "      <th>1</th>\n",
       "      <td>0.0</td>\n",
       "      <td>0.194444</td>\n",
       "      <td>0.303030</td>\n",
       "      <td>0.176471</td>\n",
       "      <td>0.041570</td>\n",
       "      <td>0.417476</td>\n",
       "      <td>0.065719</td>\n",
       "      <td>0.112518</td>\n",
       "      <td>0</td>\n",
       "      <td>0</td>\n",
       "      <td>0</td>\n",
       "      <td>0</td>\n",
       "    </tr>\n",
       "    <tr>\n",
       "      <th>2</th>\n",
       "      <td>0.0</td>\n",
       "      <td>0.555556</td>\n",
       "      <td>0.454545</td>\n",
       "      <td>0.411765</td>\n",
       "      <td>0.096998</td>\n",
       "      <td>0.131068</td>\n",
       "      <td>0.041090</td>\n",
       "      <td>0.060405</td>\n",
       "      <td>0</td>\n",
       "      <td>0</td>\n",
       "      <td>0</td>\n",
       "      <td>0</td>\n",
       "    </tr>\n",
       "    <tr>\n",
       "      <th>4</th>\n",
       "      <td>1.0</td>\n",
       "      <td>0.111111</td>\n",
       "      <td>0.060606</td>\n",
       "      <td>0.000000</td>\n",
       "      <td>0.034642</td>\n",
       "      <td>0.417476</td>\n",
       "      <td>0.086412</td>\n",
       "      <td>0.085656</td>\n",
       "      <td>1</td>\n",
       "      <td>0</td>\n",
       "      <td>0</td>\n",
       "      <td>0</td>\n",
       "    </tr>\n",
       "    <tr>\n",
       "      <th>5</th>\n",
       "      <td>0.0</td>\n",
       "      <td>0.583333</td>\n",
       "      <td>0.151515</td>\n",
       "      <td>0.147059</td>\n",
       "      <td>0.027714</td>\n",
       "      <td>0.245146</td>\n",
       "      <td>0.018541</td>\n",
       "      <td>0.060074</td>\n",
       "      <td>1</td>\n",
       "      <td>0</td>\n",
       "      <td>0</td>\n",
       "      <td>0</td>\n",
       "    </tr>\n",
       "    <tr>\n",
       "      <th>7</th>\n",
       "      <td>0.0</td>\n",
       "      <td>0.638889</td>\n",
       "      <td>0.363636</td>\n",
       "      <td>0.323529</td>\n",
       "      <td>0.057737</td>\n",
       "      <td>0.084951</td>\n",
       "      <td>0.005688</td>\n",
       "      <td>0.033962</td>\n",
       "      <td>0</td>\n",
       "      <td>0</td>\n",
       "      <td>0</td>\n",
       "      <td>0</td>\n",
       "    </tr>\n",
       "  </tbody>\n",
       "</table>\n",
       "</div>"
      ],
      "text/plain": [
       "   default       age    employ   address    income   debtinc  creddebt  \\\n",
       "1      0.0  0.194444  0.303030  0.176471  0.041570  0.417476  0.065719   \n",
       "2      0.0  0.555556  0.454545  0.411765  0.096998  0.131068  0.041090   \n",
       "4      1.0  0.111111  0.060606  0.000000  0.034642  0.417476  0.086412   \n",
       "5      0.0  0.583333  0.151515  0.147059  0.027714  0.245146  0.018541   \n",
       "7      0.0  0.638889  0.363636  0.323529  0.057737  0.084951  0.005688   \n",
       "\n",
       "    othdebt  ed_2  ed_3  ed_4  ed_5  \n",
       "1  0.112518     0     0     0     0  \n",
       "2  0.060405     0     0     0     0  \n",
       "4  0.085656     1     0     0     0  \n",
       "5  0.060074     1     0     0     0  \n",
       "7  0.033962     0     0     0     0  "
      ]
     },
     "execution_count": 35,
     "metadata": {},
     "output_type": "execute_result"
    }
   ],
   "source": [
    "bank_data_logit.head(5)"
   ]
  },
  {
   "cell_type": "code",
   "execution_count": 36,
   "metadata": {},
   "outputs": [
    {
     "data": {
      "text/plain": [
       "(662, 12)"
      ]
     },
     "execution_count": 36,
     "metadata": {},
     "output_type": "execute_result"
    }
   ],
   "source": [
    "bank_data_logit.shape"
   ]
  },
  {
   "cell_type": "markdown",
   "metadata": {},
   "source": [
    "# Applying Logistic Regression model"
   ]
  },
  {
   "cell_type": "code",
   "execution_count": 37,
   "metadata": {},
   "outputs": [],
   "source": [
    "# AS the target variable has two classes as outputs we will use models used for classification problem.\n",
    "from sklearn.linear_model import LogisticRegression\n",
    "from sklearn.metrics import confusion_matrix, classification_report, roc_curve\n",
    "from sklearn.model_selection import cross_val_score\n",
    "from sklearn.metrics import mean_squared_error as MSE"
   ]
  },
  {
   "cell_type": "code",
   "execution_count": 38,
   "metadata": {},
   "outputs": [],
   "source": [
    "x_features = bank_data_logit.drop('default', axis = 1) # Getting all the conitnuos feature or the predictor variables.\n",
    "y_target = bank_data_logit['default'] # getting the target variable."
   ]
  },
  {
   "cell_type": "code",
   "execution_count": 39,
   "metadata": {},
   "outputs": [
    {
     "data": {
      "text/plain": [
       "1      0.0\n",
       "2      0.0\n",
       "4      1.0\n",
       "5      0.0\n",
       "7      0.0\n",
       "      ... \n",
       "844    0.0\n",
       "845    0.0\n",
       "847    0.0\n",
       "848    0.0\n",
       "849    0.0\n",
       "Name: default, Length: 662, dtype: float64"
      ]
     },
     "execution_count": 39,
     "metadata": {},
     "output_type": "execute_result"
    }
   ],
   "source": [
    "#Validating extraction.\n",
    "#x_features.shape\n",
    "y_target"
   ]
  },
  {
   "cell_type": "code",
   "execution_count": 40,
   "metadata": {},
   "outputs": [],
   "source": [
    "from sklearn.model_selection import train_test_split\n",
    "X_train, X_test, y_train, y_test = train_test_split(x_features, y_target, test_size = 0.3, random_state = 42)"
   ]
  },
  {
   "cell_type": "code",
   "execution_count": 41,
   "metadata": {},
   "outputs": [
    {
     "data": {
      "text/plain": [
       "(199,)"
      ]
     },
     "execution_count": 41,
     "metadata": {},
     "output_type": "execute_result"
    }
   ],
   "source": [
    "y_test.shape"
   ]
  },
  {
   "cell_type": "code",
   "execution_count": 42,
   "metadata": {},
   "outputs": [],
   "source": [
    "logreg = LogisticRegression() #Creating the classifier"
   ]
  },
  {
   "cell_type": "code",
   "execution_count": 43,
   "metadata": {},
   "outputs": [],
   "source": [
    "MSE_logreg = - cross_val_score(logreg, X_train, y_train, cv = 10, scoring = 'neg_mean_squared_error', n_jobs = -1)"
   ]
  },
  {
   "cell_type": "code",
   "execution_count": 44,
   "metadata": {},
   "outputs": [
    {
     "data": {
      "text/plain": [
       "0.19227567067530066"
      ]
     },
     "execution_count": 44,
     "metadata": {},
     "output_type": "execute_result"
    }
   ],
   "source": [
    "MSE_logreg.mean()"
   ]
  },
  {
   "cell_type": "code",
   "execution_count": 45,
   "metadata": {},
   "outputs": [
    {
     "data": {
      "text/plain": [
       "LogisticRegression(C=1.0, class_weight=None, dual=False, fit_intercept=True,\n",
       "                   intercept_scaling=1, l1_ratio=None, max_iter=100,\n",
       "                   multi_class='auto', n_jobs=None, penalty='l2',\n",
       "                   random_state=None, solver='lbfgs', tol=0.0001, verbose=0,\n",
       "                   warm_start=False)"
      ]
     },
     "execution_count": 45,
     "metadata": {},
     "output_type": "execute_result"
    }
   ],
   "source": [
    "logreg.fit(X_train, y_train) #fitting the data into the logistic model"
   ]
  },
  {
   "cell_type": "code",
   "execution_count": 46,
   "metadata": {},
   "outputs": [],
   "source": [
    "y_pred = logreg.predict(X_test) # predicting values for test data set\n",
    "x_pred = logreg.predict(X_train) # predicting values for train data set"
   ]
  },
  {
   "cell_type": "code",
   "execution_count": 47,
   "metadata": {},
   "outputs": [
    {
     "name": "stdout",
     "output_type": "stream",
     "text": [
      "LogisticRegression MSE: 0.19\n",
      "Train MSE: 0.19\n",
      "Test MSE: 0.22\n"
     ]
    }
   ],
   "source": [
    "print('LogisticRegression MSE: {:.2f}'.format(MSE_logreg.mean())) # MSE of Logistic Regression\n",
    "print('Train MSE: {:.2f}'.format(MSE(y_train, x_pred))) # MSE of Train\n",
    "print('Test MSE: {:.2f}'.format(MSE(y_test, y_pred))) # MSE of Test"
   ]
  },
  {
   "cell_type": "code",
   "execution_count": 48,
   "metadata": {},
   "outputs": [
    {
     "data": {
      "text/plain": [
       "array([0., 0., 0., 0., 0., 0., 0., 0., 0., 0., 0., 0., 0., 0., 0., 0., 0.,\n",
       "       0., 0., 0., 0., 0., 0., 0., 0., 0., 0., 0., 0., 0., 0., 0., 0., 0.,\n",
       "       0., 0., 0., 0., 0., 0., 0., 0., 0., 0., 0., 0., 0., 0., 0., 0., 0.,\n",
       "       0., 1., 0., 0., 0., 0., 0., 0., 0., 0., 0., 0., 0., 0., 0., 0., 0.,\n",
       "       0., 0., 0., 0., 0., 0., 0., 0., 0., 0., 0., 0., 0., 0., 0., 0., 0.,\n",
       "       0., 0., 0., 0., 0., 0., 0., 0., 0., 0., 0., 0., 0., 0., 0., 0., 0.,\n",
       "       0., 0., 0., 0., 0., 0., 0., 0., 0., 0., 1., 0., 0., 0., 0., 0., 0.,\n",
       "       0., 0., 0., 0., 0., 0., 0., 0., 0., 0., 0., 0., 0., 0., 0., 0., 0.,\n",
       "       0., 0., 0., 0., 0., 0., 0., 0., 0., 0., 0., 0., 0., 0., 0., 0., 0.,\n",
       "       0., 0., 0., 0., 0., 0., 0., 0., 0., 0., 0., 0., 0., 0., 0., 0., 0.,\n",
       "       0., 0., 0., 0., 0., 0., 0., 0., 0., 0., 0., 0., 0., 0., 0., 0., 0.,\n",
       "       0., 0., 0., 0., 0., 0., 0., 0., 0., 0., 0., 0.])"
      ]
     },
     "execution_count": 48,
     "metadata": {},
     "output_type": "execute_result"
    }
   ],
   "source": [
    "y_pred"
   ]
  },
  {
   "cell_type": "markdown",
   "metadata": {},
   "source": [
    "# Confusion Matrix"
   ]
  },
  {
   "cell_type": "code",
   "execution_count": 49,
   "metadata": {},
   "outputs": [
    {
     "name": "stdout",
     "output_type": "stream",
     "text": [
      "[[153   0]\n",
      " [ 44   2]]\n",
      "              precision    recall  f1-score   support\n",
      "\n",
      "         0.0       0.78      1.00      0.87       153\n",
      "         1.0       1.00      0.04      0.08        46\n",
      "\n",
      "    accuracy                           0.78       199\n",
      "   macro avg       0.89      0.52      0.48       199\n",
      "weighted avg       0.83      0.78      0.69       199\n",
      "\n",
      "(463, 11)\n",
      "(463,)\n"
     ]
    }
   ],
   "source": [
    "print(confusion_matrix(y_test, y_pred)) # printing the confusion matrix\n",
    "print(classification_report(y_test, y_pred)) # Printing the metrics such as accuracy, precision, recall.\n",
    "print(X_train.shape) \n",
    "print(y_train.shape)"
   ]
  },
  {
   "cell_type": "code",
   "execution_count": 50,
   "metadata": {},
   "outputs": [
    {
     "name": "stdout",
     "output_type": "stream",
     "text": [
      "Accuracy =  0.7788944723618091\n",
      "FNR =  0.9565217391304348\n"
     ]
    }
   ],
   "source": [
    "print(\"Accuracy = \",(153+2)/(153+0+2+44))\n",
    "print(\"FNR = \",44/(44+2))"
   ]
  },
  {
   "cell_type": "markdown",
   "metadata": {},
   "source": [
    "Plotting the ROC curve for the predicted probabilities."
   ]
  },
  {
   "cell_type": "code",
   "execution_count": 51,
   "metadata": {},
   "outputs": [
    {
     "data": {
      "text/plain": [
       "array([0.15432827, 0.18058715, 0.20974502, 0.09969298, 0.24652584,\n",
       "       0.28340688, 0.04747634, 0.24899034, 0.31157937, 0.18371115,\n",
       "       0.2270048 , 0.38668113, 0.13122975, 0.10198513, 0.06041052,\n",
       "       0.20302096, 0.30084086, 0.25867771, 0.02836333, 0.13277915,\n",
       "       0.09086815, 0.32085743, 0.0433918 , 0.45281603, 0.14831003,\n",
       "       0.14816921, 0.09388461, 0.09806929, 0.17459194, 0.31328456,\n",
       "       0.29074293, 0.27714976, 0.30370656, 0.22957231, 0.16692662,\n",
       "       0.27995562, 0.05742687, 0.37055616, 0.17854265, 0.10303787,\n",
       "       0.15561331, 0.10550029, 0.14995714, 0.1445925 , 0.11476791,\n",
       "       0.37478291, 0.2092675 , 0.2064911 , 0.04794373, 0.10749835,\n",
       "       0.33950436, 0.08246258, 0.50282353, 0.29673636, 0.04560994,\n",
       "       0.14074159, 0.05080902, 0.25048659, 0.19716742, 0.07536488,\n",
       "       0.40899033, 0.03742638, 0.4879905 , 0.32759853, 0.19611386,\n",
       "       0.16702595, 0.34328477, 0.27721417, 0.35684607, 0.17148563,\n",
       "       0.02531836, 0.2380948 , 0.39534686, 0.20306757, 0.11634991,\n",
       "       0.17540542, 0.41143007, 0.20954018, 0.17652577, 0.44750723,\n",
       "       0.138451  , 0.09239049, 0.23439475, 0.04606756, 0.2312403 ,\n",
       "       0.0781275 , 0.2058028 , 0.21686542, 0.43008911, 0.09221593,\n",
       "       0.20989039, 0.35661282, 0.14111592, 0.05161267, 0.15988641,\n",
       "       0.1460092 , 0.09712649, 0.27158327, 0.029145  , 0.15058246,\n",
       "       0.09649937, 0.18863783, 0.03602135, 0.04683607, 0.28148745,\n",
       "       0.06840926, 0.27647014, 0.23428182, 0.23967674, 0.19452348,\n",
       "       0.16547653, 0.21213405, 0.51614858, 0.26609268, 0.23346365,\n",
       "       0.1779462 , 0.07123014, 0.34093385, 0.1971644 , 0.22341492,\n",
       "       0.23541767, 0.11698679, 0.3407565 , 0.20080011, 0.05341344,\n",
       "       0.13865724, 0.19701406, 0.26131791, 0.27073334, 0.04462273,\n",
       "       0.05666859, 0.23620498, 0.14457755, 0.14430093, 0.03292797,\n",
       "       0.42732984, 0.09607347, 0.04939135, 0.19397907, 0.11197062,\n",
       "       0.44334024, 0.21238864, 0.02739785, 0.23130258, 0.18690054,\n",
       "       0.37343285, 0.08069624, 0.36627983, 0.29103414, 0.16091585,\n",
       "       0.1522096 , 0.08235122, 0.06777376, 0.13538953, 0.05247203,\n",
       "       0.22018383, 0.1338117 , 0.36582577, 0.14891782, 0.13516194,\n",
       "       0.0811969 , 0.13242707, 0.1923909 , 0.14189128, 0.21096745,\n",
       "       0.16338049, 0.38052163, 0.18564759, 0.02794707, 0.22702085,\n",
       "       0.21959059, 0.16048655, 0.29686069, 0.16773186, 0.05829816,\n",
       "       0.2549594 , 0.16210779, 0.24578561, 0.17418927, 0.224725  ,\n",
       "       0.22982175, 0.19696583, 0.02821473, 0.24540683, 0.06455272,\n",
       "       0.05941084, 0.19214586, 0.16206514, 0.2747618 , 0.0617637 ,\n",
       "       0.20378213, 0.22964494, 0.14215098, 0.23315858, 0.07281905,\n",
       "       0.39356312, 0.07362381, 0.23885517, 0.16814634])"
      ]
     },
     "execution_count": 51,
     "metadata": {},
     "output_type": "execute_result"
    }
   ],
   "source": [
    "y_pred_prob = logreg.predict_proba(X_test)[:,1] # Computing predicted probabilities.\n",
    "y_pred_prob"
   ]
  },
  {
   "cell_type": "code",
   "execution_count": 52,
   "metadata": {},
   "outputs": [],
   "source": [
    "#computing roc curve values such as fpr, tpr, thresholds\n",
    "fpr, tpr, thresholds = roc_curve(y_test, y_pred_prob)"
   ]
  },
  {
   "cell_type": "markdown",
   "metadata": {},
   "source": [
    "# Plotting ROC Curve"
   ]
  },
  {
   "cell_type": "code",
   "execution_count": 53,
   "metadata": {},
   "outputs": [
    {
     "data": {
      "image/png": "[encoded data removed]",
      "text/plain": [
       "<Figure size 432x288 with 1 Axes>"
      ]
     },
     "metadata": {
      "needs_background": "light"
     },
     "output_type": "display_data"
    }
   ],
   "source": [
    "plt.plot([0, 1], [0, 1], 'k--')\n",
    "plt.plot(fpr, tpr)\n",
    "plt.xlabel('False Positive Rate')\n",
    "plt.ylabel('True Positive Rate')\n",
    "plt.title('ROC Curve')\n",
    "plt.show()"
   ]
  },
  {
   "cell_type": "markdown",
   "metadata": {},
   "source": [
    " # Model Accuracy"
   ]
  },
  {
   "cell_type": "code",
   "execution_count": 54,
   "metadata": {},
   "outputs": [
    {
     "data": {
      "text/plain": [
       "0.7452401250355215"
      ]
     },
     "execution_count": 54,
     "metadata": {},
     "output_type": "execute_result"
    }
   ],
   "source": [
    "from sklearn.metrics import roc_auc_score, precision_recall_curve\n",
    "roc_auc_score(y_test, y_pred_prob) # checking the area under the curve of ROC for understanding model performance."
   ]
  },
  {
   "cell_type": "markdown",
   "metadata": {},
   "source": [
    "\n",
    "\n",
    "This shows that the model is 75% accurate for the dataset. It is a good score to understand that model is good.\n"
   ]
  },
  {
   "cell_type": "markdown",
   "metadata": {},
   "source": [
    "# # Precision Recall Curve"
   ]
  },
  {
   "cell_type": "code",
   "execution_count": 55,
   "metadata": {},
   "outputs": [],
   "source": [
    "# calculating values for precision, recall\n",
    "precision, recall, thresholds = precision_recall_curve(y_test, y_pred_prob) "
   ]
  },
  {
   "cell_type": "code",
   "execution_count": 56,
   "metadata": {},
   "outputs": [
    {
     "data": {
      "image/png": "[encoded data removed]",
      "text/plain": [
       "<Figure size 432x288 with 1 Axes>"
      ]
     },
     "metadata": {
      "needs_background": "light"
     },
     "output_type": "display_data"
    }
   ],
   "source": [
    "# plotting precision recall curve\n",
    "plt.plot([0, 1], [0, 1], 'k--')\n",
    "plt.plot(recall, precision)\n",
    "plt.xlabel('Recall')\n",
    "plt.ylabel('Precision')\n",
    "plt.title('Precision_recall_Curve')\n",
    "plt.show()"
   ]
  },
  {
   "cell_type": "markdown",
   "metadata": {},
   "source": [
    "# Applying Decision Tree Classifier"
   ]
  },
  {
   "cell_type": "code",
   "execution_count": 57,
   "metadata": {},
   "outputs": [],
   "source": [
    "# Import the required libraries for decision tree.\n",
    "from sklearn.tree import DecisionTreeClassifier\n",
    "from sklearn.metrics import accuracy_score\n",
    "from sklearn.model_selection import cross_val_score"
   ]
  },
  {
   "cell_type": "code",
   "execution_count": 58,
   "metadata": {},
   "outputs": [],
   "source": [
    "# Fitting the decision tree with parameters.\n",
    "# max_dept (setting it to 4 at first to check the model behaviour.)\n",
    "# criterion for decision tree to build up by using entropy.\n",
    "dt = DecisionTreeClassifier(max_depth = 2, criterion = 'entropy', random_state = 42)\n",
    "\n"
   ]
  },
  {
   "cell_type": "code",
   "execution_count": 59,
   "metadata": {},
   "outputs": [],
   "source": [
    "# Doing cross validation of the train data.\n",
    "# Also calculating \"Neg- mean squared error.\" as CV doesn't allow + MSE\n",
    "MSE_cv = - cross_val_score(dt, X_train, y_train, cv = 10, scoring = 'neg_mean_squared_error', n_jobs = -1)"
   ]
  },
  {
   "cell_type": "code",
   "execution_count": 60,
   "metadata": {},
   "outputs": [
    {
     "data": {
      "text/plain": [
       "array([0.17021277, 0.17021277, 0.17021277, 0.13043478, 0.13043478,\n",
       "       0.15217391, 0.15217391, 0.2173913 , 0.17391304, 0.26086957])"
      ]
     },
     "execution_count": 60,
     "metadata": {},
     "output_type": "execute_result"
    }
   ],
   "source": [
    "# Checking MSE_cv\n",
    "MSE_cv "
   ]
  },
  {
   "cell_type": "code",
   "execution_count": 61,
   "metadata": {},
   "outputs": [
    {
     "data": {
      "text/plain": [
       "DecisionTreeClassifier(ccp_alpha=0.0, class_weight=None, criterion='entropy',\n",
       "                       max_depth=2, max_features=None, max_leaf_nodes=None,\n",
       "                       min_impurity_decrease=0.0, min_impurity_split=None,\n",
       "                       min_samples_leaf=1, min_samples_split=2,\n",
       "                       min_weight_fraction_leaf=0.0, presort='deprecated',\n",
       "                       random_state=42, splitter='best')"
      ]
     },
     "execution_count": 61,
     "metadata": {},
     "output_type": "execute_result"
    }
   ],
   "source": [
    "# Fitting the model on the training data set.\n",
    "dt.fit(X_train, y_train)"
   ]
  },
  {
   "cell_type": "code",
   "execution_count": 62,
   "metadata": {},
   "outputs": [],
   "source": [
    "y_pred_train = dt.predict(X_train) #predict labels of training data\n",
    "y_pred_test = dt.predict(X_test) #predict labels of test data"
   ]
  },
  {
   "cell_type": "code",
   "execution_count": 63,
   "metadata": {},
   "outputs": [
    {
     "data": {
      "text/plain": [
       "array([0., 0., 0., 0., 0., 0., 0., 0., 1., 0., 0., 0., 0., 0., 0., 0., 0.,\n",
       "       0., 0., 0., 0., 1., 0., 0., 0., 0., 0., 0., 0., 0., 0., 0., 0., 0.,\n",
       "       0., 1., 0., 0., 0., 0., 0., 0., 0., 0., 0., 0., 0., 0., 0., 0., 1.,\n",
       "       0., 1., 1., 0., 0., 0., 0., 0., 0., 0., 0., 1., 0., 1., 0., 1., 0.,\n",
       "       0., 0., 0., 0., 1., 0., 0., 0., 0., 0., 0., 1., 0., 0., 0., 0., 0.,\n",
       "       0., 0., 0., 0., 0., 0., 1., 0., 0., 0., 0., 0., 0., 0., 0., 0., 0.,\n",
       "       0., 0., 0., 0., 0., 1., 0., 0., 0., 0., 1., 0., 0., 0., 0., 0., 0.,\n",
       "       0., 1., 0., 1., 0., 0., 0., 0., 0., 0., 0., 0., 0., 0., 0., 0., 1.,\n",
       "       0., 0., 0., 0., 1., 0., 0., 1., 0., 0., 0., 0., 0., 0., 0., 0., 0.,\n",
       "       0., 0., 0., 0., 0., 0., 0., 0., 0., 0., 0., 0., 0., 0., 0., 0., 0.,\n",
       "       0., 0., 0., 0., 0., 1., 0., 0., 0., 0., 0., 0., 0., 0., 0., 0., 0.,\n",
       "       0., 0., 0., 0., 0., 0., 0., 0., 0., 0., 0., 0.])"
      ]
     },
     "execution_count": 63,
     "metadata": {},
     "output_type": "execute_result"
    }
   ],
   "source": [
    "y_pred_test"
   ]
  },
  {
   "cell_type": "code",
   "execution_count": 64,
   "metadata": {},
   "outputs": [
    {
     "name": "stdout",
     "output_type": "stream",
     "text": [
      "[[145   8]\n",
      " [ 34  12]]\n",
      "              precision    recall  f1-score   support\n",
      "\n",
      "         0.0       0.81      0.95      0.87       153\n",
      "         1.0       0.60      0.26      0.36        46\n",
      "\n",
      "    accuracy                           0.79       199\n",
      "   macro avg       0.71      0.60      0.62       199\n",
      "weighted avg       0.76      0.79      0.76       199\n",
      "\n"
     ]
    }
   ],
   "source": [
    "print(confusion_matrix(y_test, y_pred_test)) # printing the confusion matrix\n",
    "print(classification_report(y_test, y_pred_test)) # Printing the metrics such as accuracy, precision, recall."
   ]
  },
  {
   "cell_type": "code",
   "execution_count": 65,
   "metadata": {},
   "outputs": [
    {
     "name": "stdout",
     "output_type": "stream",
     "text": [
      "Accuracy =  0.7889447236180904\n",
      "FNR = 0.7391304347826086\n"
     ]
    }
   ],
   "source": [
    "print(\"Accuracy = \",(145+12)/(145+12+8+34))\n",
    "print(\"FNR =\" , 34/(34+12))"
   ]
  },
  {
   "cell_type": "code",
   "execution_count": 66,
   "metadata": {},
   "outputs": [
    {
     "name": "stdout",
     "output_type": "stream",
     "text": [
      "Cross_validation MSE: 0.17\n",
      "Train MSE: 0.16\n",
      "Test MSE: 0.21\n"
     ]
    }
   ],
   "source": [
    "# Printing MSE values of cross validation, train data and test data w.r.t to predictions\n",
    "from sklearn.metrics import mean_squared_error as MSE\n",
    "print('Cross_validation MSE: {:.2f}'.format(MSE_cv.mean())) # MSE of CV\n",
    "print('Train MSE: {:.2f}'.format(MSE(y_train, y_pred_train))) # MSE of Train\n",
    "print('Test MSE: {:.2f}'.format(MSE(y_test, y_pred_test))) # MSE of Test"
   ]
  },
  {
   "cell_type": "markdown",
   "metadata": {},
   "source": [
    "It can be seen that Cross_validation MSE is > MSE of Train. (max_Depth = 4)\n",
    "\n",
    "            Cross_validation MSE: 0.20\n",
    "            Train MSE: 0.14\n",
    "            Test MSE: 0.25\n",
    "            \n",
    "This implies that that data points are overfitting in the model.\n",
    "\n",
    "Now we will check with changing the complexity such as max_depth = 3 of the decision tree, to improve the model.\n",
    "\n",
    "            Cross_validation MSE: 0.19\n",
    "            Train MSE: 0.16\n",
    "            Test MSE: 0.22\n",
    " \n",
    " Now Cross_validation MSE is = MSE of Train > Test MSE\n",
    " \n",
    " Now we will check with changing the complexity such as max_depth = 2 of the decision tree, to improve the model.\n",
    "\n",
    "            Cross_validation MSE: 0.17\n",
    "            Train MSE: 0.16\n",
    "            Test MSE: 0.21\n",
    "\n"
   ]
  },
  {
   "cell_type": "code",
   "execution_count": 67,
   "metadata": {},
   "outputs": [
    {
     "data": {
      "text/plain": [
       "0.7889447236180904"
      ]
     },
     "execution_count": 67,
     "metadata": {},
     "output_type": "execute_result"
    }
   ],
   "source": [
    "accuracy_score(y_test, y_pred_test)\n",
    "# Accuracy score when max_depth of the tree is 4 = 0.7914438502673797 = 75%\n",
    "# Accuracy score when max_depth of the tree is 3 = 0.7967914438502673 = 78%\n",
    "# Accuracy score when max_depth of the tree is 2 = 0.8021390374331551 = 79%"
   ]
  },
  {
   "cell_type": "code",
   "execution_count": 68,
   "metadata": {},
   "outputs": [],
   "source": [
    "y_pred_prob_DT = dt.predict_proba(X_test)[:,1] # Computing predicted probabilities."
   ]
  },
  {
   "cell_type": "code",
   "execution_count": 69,
   "metadata": {},
   "outputs": [
    {
     "data": {
      "text/plain": [
       "array([0.05839416, 0.05839416, 0.30612245, 0.05839416, 0.30612245,\n",
       "       0.30612245, 0.05839416, 0.05839416, 0.63829787, 0.30612245,\n",
       "       0.05839416, 0.30612245, 0.05839416, 0.05839416, 0.05839416,\n",
       "       0.30612245, 0.30612245, 0.30612245, 0.05839416, 0.05839416,\n",
       "       0.27272727, 0.63829787, 0.05839416, 0.30612245, 0.05839416,\n",
       "       0.05839416, 0.05839416, 0.05839416, 0.30612245, 0.30612245,\n",
       "       0.30612245, 0.05839416, 0.30612245, 0.05839416, 0.05839416,\n",
       "       0.63829787, 0.05839416, 0.27272727, 0.05839416, 0.05839416,\n",
       "       0.05839416, 0.05839416, 0.05839416, 0.05839416, 0.05839416,\n",
       "       0.30612245, 0.30612245, 0.27272727, 0.05839416, 0.27272727,\n",
       "       0.63829787, 0.05839416, 0.63829787, 0.63829787, 0.05839416,\n",
       "       0.05839416, 0.05839416, 0.30612245, 0.30612245, 0.05839416,\n",
       "       0.30612245, 0.05839416, 0.63829787, 0.30612245, 0.63829787,\n",
       "       0.30612245, 0.63829787, 0.30612245, 0.30612245, 0.27272727,\n",
       "       0.05839416, 0.05839416, 0.63829787, 0.27272727, 0.30612245,\n",
       "       0.05839416, 0.30612245, 0.05839416, 0.30612245, 0.63829787,\n",
       "       0.05839416, 0.05839416, 0.27272727, 0.05839416, 0.30612245,\n",
       "       0.05839416, 0.05839416, 0.05839416, 0.30612245, 0.05839416,\n",
       "       0.30612245, 0.63829787, 0.05839416, 0.05839416, 0.05839416,\n",
       "       0.05839416, 0.05839416, 0.05839416, 0.05839416, 0.05839416,\n",
       "       0.05839416, 0.30612245, 0.05839416, 0.05839416, 0.27272727,\n",
       "       0.05839416, 0.30612245, 0.63829787, 0.30612245, 0.05839416,\n",
       "       0.05839416, 0.05839416, 0.63829787, 0.30612245, 0.05839416,\n",
       "       0.27272727, 0.05839416, 0.30612245, 0.30612245, 0.27272727,\n",
       "       0.63829787, 0.05839416, 0.63829787, 0.30612245, 0.27272727,\n",
       "       0.05839416, 0.05839416, 0.05839416, 0.27272727, 0.05839416,\n",
       "       0.05839416, 0.05839416, 0.05839416, 0.05839416, 0.05839416,\n",
       "       0.63829787, 0.05839416, 0.05839416, 0.05839416, 0.05839416,\n",
       "       0.63829787, 0.05839416, 0.05839416, 0.63829787, 0.30612245,\n",
       "       0.27272727, 0.05839416, 0.27272727, 0.30612245, 0.05839416,\n",
       "       0.27272727, 0.05839416, 0.05839416, 0.05839416, 0.05839416,\n",
       "       0.30612245, 0.30612245, 0.30612245, 0.27272727, 0.05839416,\n",
       "       0.05839416, 0.05839416, 0.27272727, 0.05839416, 0.30612245,\n",
       "       0.05839416, 0.27272727, 0.30612245, 0.05839416, 0.30612245,\n",
       "       0.30612245, 0.05839416, 0.27272727, 0.05839416, 0.05839416,\n",
       "       0.63829787, 0.30612245, 0.30612245, 0.27272727, 0.30612245,\n",
       "       0.05839416, 0.27272727, 0.05839416, 0.30612245, 0.05839416,\n",
       "       0.05839416, 0.05839416, 0.05839416, 0.05839416, 0.05839416,\n",
       "       0.30612245, 0.05839416, 0.05839416, 0.27272727, 0.27272727,\n",
       "       0.27272727, 0.05839416, 0.30612245, 0.30612245])"
      ]
     },
     "execution_count": 69,
     "metadata": {},
     "output_type": "execute_result"
    }
   ],
   "source": [
    "y_pred_prob_DT"
   ]
  },
  {
   "cell_type": "code",
   "execution_count": 70,
   "metadata": {},
   "outputs": [],
   "source": [
    "#computing roc curve values such as fpr, tpr, thresholds\n",
    "fpr_1, tpr_1, thresholds_1 = roc_curve(y_test, y_pred_prob_DT)"
   ]
  },
  {
   "cell_type": "code",
   "execution_count": 71,
   "metadata": {},
   "outputs": [
    {
     "data": {
      "image/png": "[encoded data removed]",
      "text/plain": [
       "<Figure size 432x288 with 1 Axes>"
      ]
     },
     "metadata": {
      "needs_background": "light"
     },
     "output_type": "display_data"
    }
   ],
   "source": [
    "plt.plot([0, 1], [0, 1], 'k--')\n",
    "plt.plot(fpr_1, tpr_1)\n",
    "plt.xlabel('False Positive Rate')\n",
    "plt.ylabel('True Positive Rate')\n",
    "plt.title('ROC Curve')\n",
    "plt.show()"
   ]
  },
  {
   "cell_type": "code",
   "execution_count": 72,
   "metadata": {},
   "outputs": [
    {
     "data": {
      "text/plain": [
       "0.6780335322534812"
      ]
     },
     "execution_count": 72,
     "metadata": {},
     "output_type": "execute_result"
    }
   ],
   "source": [
    "roc_auc_score(y_test, y_pred_prob_DT) # checking the area under the curve of ROC for understanding model performance."
   ]
  },
  {
   "cell_type": "code",
   "execution_count": 73,
   "metadata": {},
   "outputs": [],
   "source": [
    "# calculating values for precision, recall\n",
    "precision_1, recall_1, thresholds_1 = precision_recall_curve(y_test, y_pred_prob_DT)"
   ]
  },
  {
   "cell_type": "code",
   "execution_count": 74,
   "metadata": {},
   "outputs": [
    {
     "data": {
      "image/png": "[encoded data removed]",
      "text/plain": [
       "<Figure size 432x288 with 1 Axes>"
      ]
     },
     "metadata": {
      "needs_background": "light"
     },
     "output_type": "display_data"
    }
   ],
   "source": [
    "# plotting precision recall curve\n",
    "plt.plot([0, 1], [0, 1], 'k--')\n",
    "plt.plot(recall_1, precision_1)\n",
    "plt.xlabel('Recall')\n",
    "plt.ylabel('Precision')\n",
    "plt.title('Precision_recall_Curve')\n",
    "plt.show()"
   ]
  },
  {
   "cell_type": "code",
   "execution_count": 75,
   "metadata": {},
   "outputs": [],
   "source": [
    "result=pd.DataFrame(y_test)\n",
    "result['default'] = (y_pred_test)\n",
    "\n",
    "result.to_csv(\"Decision Tree.csv\",index=False)"
   ]
  },
  {
   "cell_type": "code",
   "execution_count": 76,
   "metadata": {},
   "outputs": [],
   "source": [
    "Bank_df1 = pd.DataFrame(X_test)\n",
    "Bank_df2 = pd.DataFrame(y_pred_test)\n",
    "Bank_predictions = pd.merge(Bank_df1,Bank_df2,left_index=True,right_index=True)\n",
    "Bank_predictions.to_csv('Bank_output.csv')"
   ]
  },
  {
   "cell_type": "code",
   "execution_count": null,
   "metadata": {},
   "outputs": [],
   "source": []
  }
 ],
 "metadata": {
  "kernelspec": {
   "display_name": "Python 3",
   "language": "python",
   "name": "python3"
  },
  "language_info": {
   "codemirror_mode": {
    "name": "ipython",
    "version": 3
   },
   "file_extension": ".py",
   "mimetype": "text/x-python",
   "name": "python",
   "nbconvert_exporter": "python",
   "pygments_lexer": "ipython3",
   "version": "3.7.6"
  }
 },
 "nbformat": 4,
 "nbformat_minor": 4
}
